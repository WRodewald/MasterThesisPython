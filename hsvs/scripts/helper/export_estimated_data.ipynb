{
 "cells": [
  {
   "cell_type": "code",
   "execution_count": 7,
   "metadata": {
    "tags": []
   },
   "outputs": [
    {
     "output_type": "stream",
     "name": "stdout",
     "text": "The autoreload extension is already loaded. To reload it, use:\n  %reload_ext autoreload\n"
    }
   ],
   "source": [
    "%load_ext autoreload\n",
    "%autoreload 2\n",
    "\n",
    "#hsvs includes\n",
    "from hsvs.tools import dataset, framed_audio, magnitude, synthesis\n",
    "import hsvs\n",
    "\n",
    "import soundfile\n",
    "import sounddevice\n",
    "\n",
    "# 3rd party dependencies\n",
    "import numpy as np\n",
    "import scipy.io as sio\n",
    "from matplotlib import pyplot as plt"
   ]
  },
  {
   "cell_type": "code",
   "execution_count": 6,
   "metadata": {},
   "outputs": [],
   "source": [
    "vowel  = 'a'  # [a,e,i,o,u]\n",
    "singer = 'm4' # [f1 - f9, m1-m11]\n",
    "\n",
    "# collecting sorce / output file paths \n",
    "singer_vowel_dir = singer + '_' + vowel\n",
    "source_file = dataset.get_sample('scales', 'slow_forte', vowel, singer)[0]\n",
    "data_path = os.path.abspath(os.path.join(os.path.dirname(hsvs.__file__), os.pardir, 'data'))\n",
    "json_file = os.path.join(data_path, 'results', singer_vowel_dir, 'audio.json' )\n",
    "mat_file  = os.path.join(data_path, 'results', singer_vowel_dir, 'parameters.mat' )\n",
    "out_file  = os.path.join(data_path, 'results', singer_vowel_dir, 'audio', 'synthesis_estimated.wav' )\n",
    "\n",
    "# Load parameter trajectories from .mat file\n",
    "parameters = sio.loadmat(mat_file)\n",
    "pitch = parameters['f']\n",
    "gain  = parameters['g']\n",
    "Rd    = parameters['Rd']\n",
    "zeros = parameters['z0']\n",
    "poles = parameters['p0']\n",
    "fs    = parameters['fs'][0,0]\n",
    "\n",
    "\n",
    "# loading stored audio object\n",
    "audio = framed_audio.FramedAudio.from_json(json_file, wav_replacement=source_file)\n",
    "\n",
    "# run onset / offset analysis, add some margin to the values\n",
    "onset, offset = magnitude.get_onset_offset(audio)\n",
    "onset  += 50\n",
    "offset -= 50\n",
    "\n",
    "# prepare vectors for input (pitch) and output (overtone decibel magnitude)\n",
    "overtones = audio.get_trajectory('overtones')[onset:offset, :]\n",
    "pitch     = np.expand_dims(audio.get_trajectory('pitch')[onset:offset],1)"
   ]
  },
  {
   "cell_type": "code",
   "execution_count": 11,
   "metadata": {},
   "outputs": [
    {
     "output_type": "error",
     "ename": "NameError",
     "evalue": "name 'predictor' is not defined",
     "traceback": [
      "\u001b[1;31m---------------------------------------------------------------------------\u001b[0m",
      "\u001b[1;31mNameError\u001b[0m                                 Traceback (most recent call last)",
      "\u001b[1;32m<ipython-input-11-d3b1939ea295>\u001b[0m in \u001b[0;36m<module>\u001b[1;34m\u001b[0m\n\u001b[0;32m      2\u001b[0m \u001b[0mframe\u001b[0m \u001b[1;33m=\u001b[0m \u001b[1;36m1000\u001b[0m\u001b[1;33m\u001b[0m\u001b[1;33m\u001b[0m\u001b[0m\n\u001b[0;32m      3\u001b[0m sio.savemat('out.mat', {\n\u001b[1;32m----> 4\u001b[1;33m     \u001b[1;34m'f'\u001b[0m\u001b[1;33m:\u001b[0m\u001b[0mpredictor\u001b[0m\u001b[1;33m,\u001b[0m          \u001b[1;31m# pitch\u001b[0m\u001b[1;33m\u001b[0m\u001b[1;33m\u001b[0m\u001b[0m\n\u001b[0m\u001b[0;32m      5\u001b[0m     \u001b[1;34m'g'\u001b[0m\u001b[1;33m:\u001b[0m\u001b[0mgain_pred\u001b[0m\u001b[1;33m,\u001b[0m          \u001b[1;31m# gain\u001b[0m\u001b[1;33m\u001b[0m\u001b[1;33m\u001b[0m\u001b[0m\n\u001b[0;32m      6\u001b[0m     \u001b[1;34m'Rd'\u001b[0m\u001b[1;33m:\u001b[0m\u001b[0mRd_pred\u001b[0m\u001b[1;33m,\u001b[0m           \u001b[1;31m# Rd parameter\u001b[0m\u001b[1;33m\u001b[0m\u001b[1;33m\u001b[0m\u001b[0m\n",
      "\u001b[1;31mNameError\u001b[0m: name 'predictor' is not defined"
     ]
    }
   ],
   "source": [
    "plt.plot(pitch)\n",
    "\n",
    "\n",
    "\n",
    "sio.savemat('data/plots/frame.mat', {\n",
    "    'pitch':pitch,          # pitch\n",
    "    'gain':gain,            # gain\n",
    "    'Rd':Rd,                # Rd parameter\n",
    "    'zeros':zeros,          # filter zeros\n",
    "    'poles': poles,         # filter poles\n",
    "    'fs':fs,                # sample rate\n",
    "    'harmonics':overtones}) \n"
   ]
  },
  {
   "cell_type": "code",
   "execution_count": null,
   "metadata": {},
   "outputs": [],
   "source": []
  },
  {
   "cell_type": "code",
   "execution_count": null,
   "metadata": {},
   "outputs": [],
   "source": []
  }
 ],
 "metadata": {
  "language_info": {
   "codemirror_mode": {
    "name": "ipython",
    "version": 3
   },
   "file_extension": ".py",
   "mimetype": "text/x-python",
   "name": "python",
   "nbconvert_exporter": "python",
   "pygments_lexer": "ipython3",
   "version": "3.7.6-final"
  },
  "orig_nbformat": 2,
  "kernelspec": {
   "name": "python_defaultSpec_1599845715046",
   "display_name": "Python 3.7.6 64-bit ('condaenv2': conda)"
  }
 },
 "nbformat": 4,
 "nbformat_minor": 2
}