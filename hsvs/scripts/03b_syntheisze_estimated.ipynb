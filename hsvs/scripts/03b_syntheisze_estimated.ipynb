{
 "cells": [
  {
   "cell_type": "markdown",
   "metadata": {},
   "source": [
    "**Synthesis of estimated / extractd parameter trajectories**\n",
    "\n",
    "This script runs the synthesis with previously estimated parameter trajectories. "
   ]
  },
  {
   "cell_type": "code",
   "execution_count": 5,
   "metadata": {},
   "outputs": [
    {
     "output_type": "stream",
     "name": "stdout",
     "text": "The autoreload extension is already loaded. To reload it, use:\n  %reload_ext autoreload\n"
    }
   ],
   "source": [
    "%load_ext autoreload\n",
    "%autoreload 2\n",
    "\n",
    "#hsvs includes\n",
    "from hsvs.tools import synthesis\n",
    "import hsvs\n",
    "\n",
    "import soundfile\n",
    "import sounddevice\n",
    "\n",
    "# 3rd party dependencies\n",
    "import numpy as np\n",
    "import scipy.io as sio"
   ]
  },
  {
   "cell_type": "code",
   "execution_count": 6,
   "metadata": {},
   "outputs": [],
   "source": [
    "vowel  = 'a'  # [a,e,i,o,u]\n",
    "singer = 'm4' # [f1 - f9, m1-m11]\n",
    "\n",
    "# collecting sorce / output file paths \n",
    "data_path = os.path.abspath(os.path.join(os.path.dirname(hsvs.__file__), os.pardir, 'data'))\n",
    "mat_file  = os.path.join(data_path, 'results', vowel + '_' + singer, 'parameters.mat' )\n",
    "out_file  = os.path.join(data_path, 'results', vowel + '_' + singer, 'audio', 'synthesis_estimated.wav' )\n",
    "\n",
    "# Load parameter trajectories from .mat file\n",
    "parameters = sio.loadmat(mat_file)\n",
    "pitch = parameters['f']\n",
    "gain  = parameters['g']\n",
    "Rd    = parameters['Rd']\n",
    "zeros = parameters['z0']\n",
    "poles = parameters['p0']\n",
    "fs    = parameters['fs'][0,0]"
   ]
  },
  {
   "cell_type": "code",
   "execution_count": 7,
   "metadata": {},
   "outputs": [
    {
     "output_type": "stream",
     "name": "stdout",
     "text": "processing source\nprocessing gain\nprocessing filter\n100%|██████████| 528384/528384 [01:04<00:00, 8237.18it/s]\n"
    }
   ],
   "source": [
    "# Run synthesis\n",
    "x = synthesis.run(pitch, Rd, gain, poles, zeros, fs=fs, hop_size=64, verbose=True)"
   ]
  },
  {
   "cell_type": "code",
   "execution_count": 8,
   "metadata": {},
   "outputs": [],
   "source": [
    "# create dirs if they don't exist yet\n",
    "audio_path = os.path.dirname(out_file)\n",
    "if not os.path.exists(audio_path):\n",
    "            os.makedirs(audio_path)\n",
    "            \n",
    "# store synthesized audio \n",
    "soundfile.write(out_file, x * (0.5/max(abs(x))), int(fs))"
   ]
  }
 ],
 "metadata": {
  "language_info": {
   "codemirror_mode": {
    "name": "ipython",
    "version": 3
   },
   "file_extension": ".py",
   "mimetype": "text/x-python",
   "name": "python",
   "nbconvert_exporter": "python",
   "pygments_lexer": "ipython3",
   "version": "3.7.6-final"
  },
  "orig_nbformat": 2,
  "kernelspec": {
   "name": "python37664bitvenvvenv0c719cec3f704e51b29373cf7c0bb6cb",
   "display_name": "Python 3.7.6 64-bit ('.venv': venv)"
  }
 },
 "nbformat": 4,
 "nbformat_minor": 2
}