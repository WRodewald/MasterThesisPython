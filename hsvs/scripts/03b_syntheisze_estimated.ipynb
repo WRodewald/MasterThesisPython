{
 "cells": [
  {
   "cell_type": "markdown",
   "metadata": {},
   "source": [
    "**Synthesis of estimated / extractd parameter trajectories**\n",
    "\n",
    "This script runs the synthesis with previously estimated parameter trajectories. "
   ]
  },
  {
   "cell_type": "code",
   "execution_count": null,
   "metadata": {},
   "outputs": [],
   "source": [
    "%load_ext autoreload\n",
    "%autoreload 2\n",
    "\n",
    "#hsvs includes\n",
    "from hsvs.tools import synthesis\n",
    "import hsvs\n",
    "\n",
    "import soundfile\n",
    "import sounddevice\n",
    "\n",
    "# 3rd party dependencies\n",
    "import numpy as np\n",
    "import scipy.io as sio"
   ]
  },
  {
   "cell_type": "code",
   "execution_count": null,
   "metadata": {},
   "outputs": [],
   "source": [
    "vowel  = 'a'  # [a,e,i,o,u]\n",
    "singer = 'f6' # [f1 - f9, m1-m11]\n",
    "\n",
    "# collecting sorce / output file paths \n",
    "data_path = os.path.abspath(os.path.join(os.path.dirname(hsvs.__file__), os.pardir, 'data'))\n",
    "mat_file  = os.path.join(data_path, 'results', vowel + '_' + singer, 'parameters.mat' )\n",
    "out_file  = os.path.join(data_path, 'results', vowel + '_' + singer, 'audio', 'synthesis_estimated.wav' )\n",
    "\n",
    "# Load parameter trajectories from .mat file\n",
    "parameters = sio.loadmat(mat_file)\n",
    "pitch = parameters['f']\n",
    "gain  = parameters['g']\n",
    "Rd    = parameters['Rd']\n",
    "zeros = parameters['z0']\n",
    "poles = parameters['p0']\n",
    "fs    = parameters['fs'][0,0]"
   ]
  },
  {
   "cell_type": "code",
   "execution_count": null,
   "metadata": {},
   "outputs": [],
   "source": [
    "# Run synthesis\n",
    "x = synthesis.run(pitch, Rd, gain, poles, zeros, fs=fs, hop_size=64, verbose=True)"
   ]
  },
  {
   "cell_type": "code",
   "execution_count": null,
   "metadata": {},
   "outputs": [],
   "source": [
    "# create dirs if they don't exist yet\n",
    "audio_path = os.path.dirname(out_file)\n",
    "if not os.path.exists(audio_path):\n",
    "            os.makedirs(audio_path)\n",
    "            \n",
    "# store synthesized and original audio \n",
    "soundfile.write(out_file, x * (0.5/max(abs(x))), int(fs))"
   ]
  }
 ],
 "metadata": {
  "language_info": {
   "codemirror_mode": {
    "name": "ipython",
    "version": 3
   },
   "file_extension": ".py",
   "mimetype": "text/x-python",
   "name": "python",
   "nbconvert_exporter": "python",
   "pygments_lexer": "ipython3",
   "version": "3.7.6-final"
  },
  "orig_nbformat": 2,
  "kernelspec": {
   "name": "python37664bitcondaenv2conda68a0a19b354d45eb8db982a605d52750",
   "display_name": "Python 3.7.6 64-bit ('condaenv2': conda)"
  }
 },
 "nbformat": 4,
 "nbformat_minor": 2
}