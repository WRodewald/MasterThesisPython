{
 "cells": [
  {
   "cell_type": "markdown",
   "metadata": {},
   "source": [
    "**Synthesis of estimated / extractd parameter trajectories**\n",
    "\n",
    "This script runs the synthesis with previously estimated parameter trajectories. "
   ]
  },
  {
   "cell_type": "code",
   "execution_count": null,
   "metadata": {},
   "outputs": [],
   "source": [
    "%load_ext autoreload\n",
    "%autoreload 2\n",
    "\n",
    "#hsvs includes\n",
    "from hsvs.tools import synthesis\n",
    "import hsvs\n",
    "\n",
    "import soundfile\n",
    "import sounddevice\n",
    "\n",
    "# 3rd party dependencies\n",
    "import numpy as np\n",
    "import scipy.io as sio"
   ]
  },
  {
   "cell_type": "code",
   "execution_count": null,
   "metadata": {},
   "outputs": [],
   "source": [
    "no_vocalset = True # set to true if vocalset directory is not set. If True, uses data/input source samples\n",
    "vowel  = 'a'  # [a,e,i,o,u] or [a,i,o] if no_vocalset == True\n",
    "singer = 'f4' # [f1 - f9, m1-m11] or [f1, f4, f5, f6, f8, m1, m2, m4, m5, m8] if no_vocalset == True\n",
    "\n",
    "# collecting sorce / output file paths \n",
    "singer_vowel_dir = singer + '_' + vowel\n",
    "data_path = os.path.abspath(os.path.join(os.path.dirname(hsvs.__file__), os.pardir, 'data'))\n",
    "mat_file  = os.path.join(data_path, 'results', singer_vowel_dir, 'parameters.mat' )\n",
    "out_file  = os.path.join(data_path, 'results', singer_vowel_dir, 'audio', 'synthesis_estimated.wav' )\n",
    "\n",
    "# Load parameter trajectories from .mat file\n",
    "parameters = sio.loadmat(mat_file)\n",
    "pitch = parameters['f']\n",
    "gain  = parameters['g']\n",
    "Rd    = parameters['Rd']\n",
    "zeros = parameters['z0']\n",
    "poles = parameters['p0']\n",
    "fs    = parameters['fs'][0,0]"
   ]
  },
  {
   "cell_type": "code",
   "execution_count": null,
   "metadata": {},
   "outputs": [],
   "source": [
    "# Run synthesis\n",
    "x = synthesis.run(pitch, Rd, gain, poles, zeros, fs=fs, hop_size=64, verbose=True)"
   ]
  },
  {
   "cell_type": "code",
   "execution_count": null,
   "metadata": {},
   "outputs": [],
   "source": [
    "# create dirs if they don't exist yet\n",
    "audio_path = os.path.dirname(out_file)\n",
    "if not os.path.exists(audio_path):\n",
    "            os.makedirs(audio_path)\n",
    "            \n",
    "# store synthesized audio \n",
    "soundfile.write(out_file, x * (0.5/max(abs(x))), int(fs))"
   ]
  }
 ],
 "metadata": {
  "language_info": {
   "codemirror_mode": {
    "name": "ipython",
    "version": 3
   },
   "file_extension": ".py",
   "mimetype": "text/x-python",
   "name": "python",
   "nbconvert_exporter": "python",
   "pygments_lexer": "ipython3",
   "version": "3.7.9-final"
  },
  "orig_nbformat": 2,
  "kernelspec": {
   "name": "python3",
   "display_name": "Python 3.7.9 64-bit ('MT': conda)",
   "metadata": {
    "interpreter": {
     "hash": "44434d2daad41ca3bd3c074deb06713d7e9ad603c2415ae80165678b3585721f"
    }
   }
  }
 },
 "nbformat": 4,
 "nbformat_minor": 2
}