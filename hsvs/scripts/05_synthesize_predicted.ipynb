{
 "cells": [
  {
   "cell_type": "markdown",
   "metadata": {},
   "source": [
    "**Synthesis**\n",
    "\n",
    "This scrips uses control parameter trajecotries and a pre-trained singer model to first predict syntheis parameters and finally synthesize the sung vowel."
   ]
  },
  {
   "cell_type": "code",
   "execution_count": null,
   "metadata": {
    "tags": []
   },
   "outputs": [],
   "source": [
    "%load_ext autoreload\n",
    "%autoreload 2\n",
    "\n",
    "#hsvs includes\n",
    "from hsvs.model import util\n",
    "from hsvs.tools import synthesis\n",
    "import hsvs\n",
    "\n",
    "# 3rd party dependencies\n",
    "import numpy as np\n",
    "import scipy.io as sio  \n",
    "import soundfile \n",
    "\n",
    "import os\n",
    "import tensorflow as tf\n",
    "import matplotlib.pyplot as plt"
   ]
  },
  {
   "cell_type": "code",
   "execution_count": null,
   "metadata": {},
   "outputs": [],
   "source": [
    "# singer / sample used for synthesis\n",
    "model_vowel  = 'o'  # [a,e,i,o,u]\n",
    "model_singer = 'm4' # [f1 - f9, m1-m11]\n",
    "\n",
    "# singer / sample used for pitch / Rd trajecotries\n",
    "control_vowel  = model_vowel  # [a,e,i,o,u]\n",
    "control_singer = 'm2' # [f1 - f9, m1-m11]\n",
    "\n",
    "# collecting sorce / output file paths \n",
    "\n",
    "control_singer_vowel_dir = control_singer + '_' + control_vowel\n",
    "model_singer_vowel_dir   = model_singer + '_' + model_vowel\n",
    "data_path  = os.path.abspath(os.path.join(os.path.dirname(hsvs.__file__), os.pardir, 'data'))\n",
    "model_path = os.path.join(data_path, 'results', model_singer_vowel_dir, 'predictor' )\n",
    "control_mat_file = os.path.join(data_path, 'results', control_singer_vowel_dir, 'parameters.mat' )\n",
    "model_mat_file   = os.path.join(data_path, 'results', model_singer_vowel_dir, 'parameters.mat' )\n",
    "\n",
    "out_file = os.path.join(data_path, 'results', model_singer_vowel_dir, 'audio', 'synthesized_' + control_singer_vowel_dir + '.wav' )\n",
    "\n",
    "\n",
    "# load mat file from model for sample rate\n",
    "model_parameters = sio.loadmat(model_mat_file)\n",
    "model_pitch = model_parameters['f']\n",
    "model_Rd    = model_parameters['Rd']\n",
    "fs = model_parameters['fs'][0,0]\n",
    "\n",
    "# Load parameter trajectories from .mat file\n",
    "control_parameters = sio.loadmat(control_mat_file)\n",
    "control_pitch = control_parameters['f']\n",
    "control_Rd    = control_parameters['Rd']"
   ]
  },
  {
   "cell_type": "code",
   "execution_count": null,
   "metadata": {},
   "outputs": [],
   "source": [
    "# load model, recompile etc.\n",
    "model = tf.keras.models.load_model(model_path, compile=False)\n",
    "\n",
    "# to prevent issues with keras.model not storing the custom loss, it's redefined here but left unused\n",
    "gain_weight = 0.1 # x/dB\n",
    "Rd_weight   = 1.   # x/Rd\n",
    "w_weight    = 0.01 * 44100/(2.*np.pi)  # x/Hz\n",
    "r_weight    = 0.1 # x/dB  \n",
    "\n",
    "losses = [lambda y_true, y_pred: util.weighted_mse_loss(y_true, y_pred, tf.square(gain_weight)), \n",
    "          lambda y_true, y_pred: util.weighted_mse_loss(y_true, y_pred, tf.square(Rd_weight)), \n",
    "          lambda y_true, y_pred: util.pole_zero_loss(y_true, y_pred, r_weight, w_weight),\n",
    "          lambda y_true, y_pred: util.pole_zero_loss(y_true, y_pred, r_weight, w_weight)]\n",
    "\n",
    "model.compile(optimizer=tf.keras.optimizers.Adam(learning_rate=10E-4), loss=losses)"
   ]
  },
  {
   "cell_type": "code",
   "execution_count": null,
   "metadata": {},
   "outputs": [],
   "source": [
    "# predict synthesis parameters from control parameters pitch and Rd\n",
    "gain, Rd, poles, zeros = model.predict([control_pitch], batch_size=1024)"
   ]
  },
  {
   "cell_type": "code",
   "execution_count": null,
   "metadata": {
    "tags": []
   },
   "outputs": [],
   "source": [
    "# syntheisze predicted parameter trajectories\n",
    "x = synthesis.run(control_pitch, Rd, gain, poles, zeros, fs=fs, hop_size=64, verbose=True)"
   ]
  },
  {
   "cell_type": "code",
   "execution_count": null,
   "metadata": {},
   "outputs": [],
   "source": [
    "# create dirs if they don't exist yet\n",
    "audio_path = os.path.dirname(out_file)\n",
    "if not os.path.exists(audio_path):\n",
    "            os.makedirs(audio_path)\n",
    "            \n",
    "# store synthesized audio \n",
    "soundfile.write(out_file, x * (0.5/max(abs(x))), int(fs))"
   ]
  },
  {
   "cell_type": "code",
   "execution_count": null,
   "metadata": {},
   "outputs": [],
   "source": [
    "\n",
    "plt.plot(gain)"
   ]
  },
  {
   "cell_type": "code",
   "execution_count": null,
   "metadata": {},
   "outputs": [],
   "source": [
    "# resetting the kernel to flush unused memory\n",
    "# notification beep.\n",
    "\n",
    "#import numpy as np\n",
    "#import sounddevice\n",
    "#beep = np.sin(np.linspace(0, 1000*np.pi,22050))\n",
    "#sounddevice.play(beep, 44100, blocking=True)\n",
    "\n",
    "#%reset -f\n",
    "#exit()"
   ]
  }
 ],
 "metadata": {
  "language_info": {
   "codemirror_mode": {
    "name": "ipython",
    "version": 3
   },
   "file_extension": ".py",
   "mimetype": "text/x-python",
   "name": "python",
   "nbconvert_exporter": "python",
   "pygments_lexer": "ipython3",
   "version": "3.7.6-final"
  },
  "orig_nbformat": 2,
  "kernelspec": {
   "name": "python37664bitcondaenv2conda68a0a19b354d45eb8db982a605d52750",
   "display_name": "Python 3.7.6 64-bit ('condaenv2': conda)"
  }
 },
 "nbformat": 4,
 "nbformat_minor": 2
}