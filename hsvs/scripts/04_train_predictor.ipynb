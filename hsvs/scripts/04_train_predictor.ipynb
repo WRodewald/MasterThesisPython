{
 "cells": [
  {
   "cell_type": "code",
   "execution_count": 1,
   "metadata": {
    "tags": []
   },
   "outputs": [],
   "source": [
    "%load_ext autoreload\n",
    "%autoreload 2\n",
    "\n",
    "#hsvs includes\n",
    "from hsvs.model import SliceLayer, util\n",
    "from hsvs.tools import synthesis\n",
    "import hsvs\n",
    "\n",
    "# 3rd party dependencies\n",
    "import numpy as np\n",
    "import scipy.io as sio  \n",
    "\n",
    "import os\n",
    "import tensorflow as tf\n",
    "import tqdm\n",
    "from tqdm.notebook import tqdm as tqdm_notebook"
   ]
  },
  {
   "cell_type": "code",
   "execution_count": 2,
   "metadata": {},
   "outputs": [],
   "source": [
    "vowel  = 'i'  # [a,e,i,o,u]\n",
    "singer = 'f6' # [f1 - f9, m1-m11]\n",
    "\n",
    "# collecting sorce / output file paths \n",
    "singer_vowel_dir = singer + '_' + vowel\n",
    "data_path  = os.path.abspath(os.path.join(os.path.dirname(hsvs.__file__), os.pardir, 'data'))\n",
    "mat_file   = os.path.join(data_path, 'results', singer_vowel_dir, 'parameters.mat' )\n",
    "model_path = os.path.join(data_path, 'results', singer_vowel_dir, 'predictor' )\n",
    "\n",
    "# Load parameter trajectories from .mat file\n",
    "parameters = sio.loadmat(mat_file)\n",
    "pitch = parameters['f']\n",
    "gain  = parameters['g']\n",
    "Rd    = parameters['Rd']\n",
    "zeros = parameters['z0']\n",
    "poles = parameters['p0']\n",
    "fs    = parameters['fs'][0,0]\n",
    "\n",
    "num_samples = pitch.shape[0]\n",
    "num_poles = poles.shape[1]\n",
    "num_zeros = zeros.shape[1]"
   ]
  },
  {
   "cell_type": "code",
   "execution_count": 3,
   "metadata": {
    "tags": []
   },
   "outputs": [],
   "source": [
    "# custom layer converting two variables for radius and angle to a complex\n",
    "def to_complex(x):\n",
    "    r = tf.sigmoid(x[:,0::2]) # radius limited to [0..1]\n",
    "    w = np.pi * tf.sigmoid(x[:,1::2]) # angle limited to [0..pi]\n",
    "    return tf.complex(r, 0.) * tf.exp(tf.complex(0., w))\n",
    "\n",
    "# input 1: pitch\n",
    "input_pitch = tf.keras.Input(shape=(1,), name='input_pitch')\n",
    "x_pitch = tf.keras.layers.Lambda(lambda x: x/100.)(input_pitch)\n",
    "\n",
    "#input 2: Rd\n",
    "input_Rd = tf.keras.Input(shape=(1,), name='input_Rd')\n",
    "\n",
    "# dense network\n",
    "inputs = tf.keras.layers.Concatenate(axis=1)([x_pitch, input_Rd])\n",
    "x = tf.keras.layers.Dense(2)(inputs)\n",
    "x = tf.keras.layers.Dense(8,   activation='softplus')(x)\n",
    "x = tf.keras.layers.Dense(32,  activation='softplus')(x)\n",
    "x = tf.keras.layers.Dense(62,  activation='softplus')(x)\n",
    "x = tf.keras.layers.Dense(62,)(x)\n",
    "\n",
    "# splitting in four branches for gain, Rd, poles and zeros\n",
    "x_gain, x_Rd, x_p0, x_z0 = SliceLayer.SliceLayer(slice_lens = [1, 1, 2*num_poles, 2*num_zeros])(x)\n",
    "x_gain = tf.keras.layers.Lambda(lambda x: 100.*x, name='Gain')(x_gain)\n",
    "x_Rd   = tf.keras.layers.Lambda(lambda x:   1.*x, name='Rd')(x_Rd)\n",
    "x_p0   = tf.keras.layers.Lambda(lambda x: to_complex(x), name='p0')(x_p0)\n",
    "x_z0   = tf.keras.layers.Lambda(lambda x: to_complex(x), name='z0')(x_z0)\n",
    "\n",
    "#define model\n",
    "model = tf.keras.Model(inputs=[input_pitch, input_Rd], outputs=[x_gain, x_Rd, x_p0, x_z0])"
   ]
  },
  {
   "cell_type": "code",
   "execution_count": 4,
   "metadata": {
    "tags": []
   },
   "outputs": [
    {
     "output_type": "stream",
     "name": "stdout",
     "text": "Model: \"model\"\n__________________________________________________________________________________________________\nLayer (type)                    Output Shape         Param #     Connected to                     \n==================================================================================================\ninput_pitch (InputLayer)        [(None, 1)]          0                                            \n__________________________________________________________________________________________________\nlambda (Lambda)                 (None, 1)            0           input_pitch[0][0]                \n__________________________________________________________________________________________________\ninput_Rd (InputLayer)           [(None, 1)]          0                                            \n__________________________________________________________________________________________________\nconcatenate (Concatenate)       (None, 2)            0           lambda[0][0]                     \n                                                                 input_Rd[0][0]                   \n__________________________________________________________________________________________________\ndense (Dense)                   (None, 2)            6           concatenate[0][0]                \n__________________________________________________________________________________________________\ndense_1 (Dense)                 (None, 8)            24          dense[0][0]                      \n__________________________________________________________________________________________________\ndense_2 (Dense)                 (None, 32)           288         dense_1[0][0]                    \n__________________________________________________________________________________________________\ndense_3 (Dense)                 (None, 62)           2046        dense_2[0][0]                    \n__________________________________________________________________________________________________\ndense_4 (Dense)                 (None, 62)           3906        dense_3[0][0]                    \n__________________________________________________________________________________________________\nslice_layer (SliceLayer)        ((None, 1), (None, 1 0           dense_4[0][0]                    \n__________________________________________________________________________________________________\nGain (Lambda)                   (None, 1)            0           slice_layer[0][0]                \n__________________________________________________________________________________________________\nRd (Lambda)                     (None, 1)            0           slice_layer[0][1]                \n__________________________________________________________________________________________________\np0 (Lambda)                     (None, 10)           0           slice_layer[0][2]                \n__________________________________________________________________________________________________\nz0 (Lambda)                     (None, 10)           0           slice_layer[0][3]                \n==================================================================================================\nTotal params: 6,270\nTrainable params: 6,270\nNon-trainable params: 0\n__________________________________________________________________________________________________\n"
    }
   ],
   "source": [
    "# relative weighting for the four ouput branches \n",
    "gain_weight = 0.1 # x/dB\n",
    "Rd_weight   = 4.   # x/Rd\n",
    "w_weight    = 0.01 * fs/(2.*np.pi)  # x/Hz\n",
    "r_weight    = 0.1 # x/dB  \n",
    "\n",
    "# loss for Rd and gain is weighted mse.\n",
    "# loss for pole zero is custom loss, basically additive combination of weighted mse for angle and (shaped) radius\n",
    "losses = [lambda y_true, y_pred: util.weighted_mse_loss(y_true, y_pred, tf.square(gain_weight)), \n",
    "          lambda y_true, y_pred: util.weighted_mse_loss(y_true, y_pred, tf.square(Rd_weight)), \n",
    "          lambda y_true, y_pred: util.pole_zero_loss(y_true, y_pred, r_weight, w_weight),\n",
    "          lambda y_true, y_pred: util.pole_zero_loss(y_true, y_pred, r_weight, w_weight)]\n",
    "          \n",
    "\n",
    "model.compile(optimizer=tf.keras.optimizers.Adam(learning_rate=10E-4),\n",
    "    loss=losses)\n",
    "\n",
    "model.summary()"
   ]
  },
  {
   "cell_type": "code",
   "execution_count": 5,
   "metadata": {
    "tags": []
   },
   "outputs": [
    {
     "output_type": "display_data",
     "data": {
      "text/plain": "HBox(children=(FloatProgress(value=0.0, max=32000.0), HTML(value='')))",
      "application/vnd.jupyter.widget-view+json": {
       "version_major": 2,
       "version_minor": 0,
       "model_id": "b91c6fc6f099476b99729be88aab3aa9"
      }
     },
     "metadata": {}
    },
    {
     "output_type": "stream",
     "name": "stdout",
     "text": "\n"
    }
   ],
   "source": [
    "num_epochs = 32000\n",
    "\n",
    "# custom tqdm progress par to reduce logging noise\n",
    "pbar = tqdm_notebook(total=num_epochs)\n",
    "def tqdm_update(epoch, logs):\n",
    "    pbar.update()\n",
    "    pbar.set_postfix_str(\"Loss: %s\" % logs['loss'])\n",
    "\n",
    "model.fit(x=[pitch, Rd], y=[gain, Rd, poles, zeros], \n",
    "    epochs = num_epochs, \n",
    "    batch_size=num_samples,\n",
    "    callbacks=[tf.keras.callbacks.LambdaCallback(on_epoch_end=tqdm_update)], verbose=0)\n",
    "pbar.close()\n"
   ]
  },
  {
   "cell_type": "code",
   "execution_count": 6,
   "metadata": {
    "tags": []
   },
   "outputs": [
    {
     "output_type": "stream",
     "name": "stdout",
     "text": "WARNING:tensorflow:From D:\\ProgramData\\Anaconda3\\envs\\condaenv2\\lib\\site-packages\\tensorflow_core\\python\\ops\\resource_variable_ops.py:1786: calling BaseResourceVariable.__init__ (from tensorflow.python.ops.resource_variable_ops) with constraint is deprecated and will be removed in a future version.\nInstructions for updating:\nIf using Keras pass *_constraint arguments to layers.\nINFO:tensorflow:Assets written to: e:\\Studium\\Master\\MasterThesis\\Development\\Python\\data\\results\\f6_a\\predictor\\assets\n"
    }
   ],
   "source": [
    "# store pre-trianed model\n",
    "model.save(model_path)"
   ]
  },
  {
   "cell_type": "code",
   "execution_count": 7,
   "metadata": {
    "tags": []
   },
   "outputs": [],
   "source": [
    "# resetting the kernel to flush unused memory\n",
    "# notification beep.\n",
    "import numpy as np\n",
    "import sounddevice\n",
    "beep = np.sin(np.linspace(0, 1000*np.pi,22050))\n",
    "sounddevice.play(beep, 44100, blocking=True)\n",
    "\n",
    "%reset -f\n",
    "exit()"
   ]
  }
 ],
 "metadata": {
  "language_info": {
   "codemirror_mode": {
    "name": "ipython",
    "version": 3
   },
   "file_extension": ".py",
   "mimetype": "text/x-python",
   "name": "python",
   "nbconvert_exporter": "python",
   "pygments_lexer": "ipython3",
   "version": "3.7.6-final"
  },
  "orig_nbformat": 2,
  "kernelspec": {
   "name": "python37664bitcondaenv2conda68a0a19b354d45eb8db982a605d52750",
   "display_name": "Python 3.7.6 64-bit ('condaenv2': conda)"
  }
 },
 "nbformat": 4,
 "nbformat_minor": 2
}