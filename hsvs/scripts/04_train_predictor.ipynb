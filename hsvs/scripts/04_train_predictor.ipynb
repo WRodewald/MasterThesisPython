{
 "cells": [
  {
   "cell_type": "code",
   "execution_count": null,
   "metadata": {
    "tags": []
   },
   "outputs": [],
   "source": [
    "%load_ext autoreload\n",
    "%autoreload 2\n",
    "\n",
    "#hsvs includes\n",
    "from hsvs.model import SliceLayer, util\n",
    "from hsvs.tools import synthesis\n",
    "import hsvs\n",
    "\n",
    "# 3rd party dependencies\n",
    "import numpy as np\n",
    "import scipy.io as sio  \n",
    "\n",
    "import os\n",
    "import tensorflow as tf\n",
    "import tqdm\n",
    "from tqdm.notebook import tqdm as tqdm_notebook\n",
    "import matplotlib.pyplot as plt"
   ]
  },
  {
   "cell_type": "code",
   "execution_count": null,
   "metadata": {},
   "outputs": [],
   "source": [
    "vowel  = 'o'  # [a,e,i,o,u]\n",
    "singer = 'm8' # [f1 - f9, m1-m11]\n",
    "\n",
    "# collecting sorce / output file paths \n",
    "singer_vowel_dir = singer + '_' + vowel\n",
    "data_path  = os.path.abspath(os.path.join(os.path.dirname(hsvs.__file__), os.pardir, 'data'))\n",
    "mat_file   = os.path.join(data_path, 'results', singer_vowel_dir, 'parameters.mat' )\n",
    "model_path = os.path.join(data_path, 'results', singer_vowel_dir, 'predictor' )\n",
    "\n",
    "# Load parameter trajectories from .mat file\n",
    "parameters = sio.loadmat(mat_file)\n",
    "pitch = parameters['f']\n",
    "gain  = parameters['g']\n",
    "Rd    = parameters['Rd']\n",
    "zeros = parameters['z0']\n",
    "poles = parameters['p0']\n",
    "fs    = parameters['fs'][0,0]\n",
    "\n",
    "num_samples = pitch.shape[0]\n",
    "num_poles = poles.shape[1]\n",
    "num_zeros = zeros.shape[1]\n",
    "\n",
    "num_parameters = 2 + 2 * num_poles + 2 * num_zeros"
   ]
  },
  {
   "cell_type": "code",
   "execution_count": null,
   "metadata": {
    "tags": []
   },
   "outputs": [],
   "source": [
    "# custom layer converting two variables for radius and angle to a complex\n",
    "def to_complex(x):\n",
    "\n",
    "    mag_db = 80 * tf.sigmoid(x[:,0::2])\n",
    "    r = 1 - util.db2mag(-mag_db) \n",
    "    w = np.pi * tf.sigmoid(x[:,1::2])\n",
    "    return tf.complex(r, 0.) * tf.exp(tf.complex(0., w))\n",
    "\n",
    "# input 1: pitch\n",
    "input_pitch = tf.keras.Input(shape=(1,), name='input_pitch')\n",
    "x_pitch = tf.keras.layers.Lambda(lambda x: x/100.)(input_pitch)\n",
    "\n",
    "# dense network\n",
    "x = tf.keras.layers.Dense(2)(x_pitch)\n",
    "x = tf.keras.layers.Dense(8,   activation='softplus')(x)\n",
    "x = tf.keras.layers.Dense(32,  activation='softplus')(x)\n",
    "x = tf.keras.layers.Dense(num_parameters, activation='softplus')(x)\n",
    "x = tf.keras.layers.Dense(num_parameters)(x)\n",
    "\n",
    "# splitting in four branches for gain, Rd, poles and zeros\n",
    "x_gain, x_Rd, x_p0, x_z0 = SliceLayer.SliceLayer(slice_lens = [1, 1, 2*num_poles, 2*num_zeros])(x)\n",
    "x_gain = tf.keras.layers.Lambda(lambda x: 100.*x, name='Gain')(x_gain)\n",
    "x_Rd   = tf.keras.layers.Lambda(lambda x:   1.*x, name='Rd')(x_Rd)\n",
    "x_p0   = tf.keras.layers.Lambda(lambda x: to_complex(x), name='p0')(x_p0)\n",
    "x_z0   = tf.keras.layers.Lambda(lambda x: to_complex(x), name='z0')(x_z0)\n",
    "\n",
    "#define model\n",
    "model = tf.keras.Model(inputs=input_pitch, outputs=[x_gain, x_Rd, x_p0, x_z0])"
   ]
  },
  {
   "cell_type": "code",
   "execution_count": null,
   "metadata": {
    "tags": []
   },
   "outputs": [],
   "source": [
    "# relative weighting for the four ouput branches \n",
    "gain_weight = 0.1 # x/dB\n",
    "Rd_weight   = 4.   # x/Rd\n",
    "w_weight    = 0.01 * fs/(2.*np.pi)  # x/Hz\n",
    "r_weight    = 0.1 # x/dB  \n",
    "\n",
    "# loss for Rd and gain is weighted mse.\n",
    "# loss for pole zero is custom loss, basically additive combination of weighted mse for angle and (shaped) radius\n",
    "losses = [lambda y_true, y_pred: util.weighted_mse_loss(y_true, y_pred, tf.square(gain_weight)), \n",
    "          lambda y_true, y_pred: util.weighted_mse_loss(y_true, y_pred, tf.square(Rd_weight)), \n",
    "          lambda y_true, y_pred: util.pole_zero_loss(y_true, y_pred, r_weight, w_weight),\n",
    "          lambda y_true, y_pred: util.pole_zero_loss(y_true, y_pred, r_weight, w_weight)]\n",
    "          \n",
    "\n",
    "model.compile(optimizer=tf.keras.optimizers.Adam(learning_rate=10E-4),\n",
    "    loss=losses)\n",
    "\n",
    "model.summary()"
   ]
  },
  {
   "cell_type": "code",
   "execution_count": null,
   "metadata": {
    "tags": []
   },
   "outputs": [],
   "source": [
    "num_epochs = 32000\n",
    "\n",
    "# custom tqdm progress par to reduce logging noise\n",
    "pbar = tqdm_notebook(total=num_epochs)\n",
    "def tqdm_update(epoch, logs):\n",
    "    pbar.update()\n",
    "    pbar.set_postfix_str(\"Loss: %s\" % logs['loss'])\n",
    "\n",
    "model.fit(x=[pitch, Rd], y=[gain, Rd, poles, zeros], \n",
    "    epochs = num_epochs, \n",
    "    batch_size=num_samples,\n",
    "    callbacks=[tf.keras.callbacks.LambdaCallback(on_epoch_end=tqdm_update)], verbose=0)\n",
    "pbar.close()\n"
   ]
  },
  {
   "cell_type": "code",
   "execution_count": null,
   "metadata": {
    "tags": []
   },
   "outputs": [],
   "source": [
    "# store pre-trianed model\n",
    "model.save(model_path)"
   ]
  },
  {
   "cell_type": "code",
   "execution_count": null,
   "metadata": {
    "tags": []
   },
   "outputs": [],
   "source": [
    "# resetting the kernel to flush unused memory\n",
    "# notification beep.\n",
    "\n",
    "#import numpy as np\n",
    "#import sounddevice\n",
    "#beep = np.sin(np.linspace(0, 1000*np.pi,22050))\n",
    "#sounddevice.play(beep, 44100, blocking=True)\n",
    "\n",
    "#%reset -f\n",
    "#exit()"
   ]
  }
 ],
 "metadata": {
  "language_info": {
   "codemirror_mode": {
    "name": "ipython",
    "version": 3
   },
   "file_extension": ".py",
   "mimetype": "text/x-python",
   "name": "python",
   "nbconvert_exporter": "python",
   "pygments_lexer": "ipython3",
   "version": "3.7.6-final"
  },
  "orig_nbformat": 2,
  "kernelspec": {
   "name": "python37664bitcondaenv2conda68a0a19b354d45eb8db982a605d52750",
   "display_name": "Python 3.7.6 64-bit ('condaenv2': conda)"
  }
 },
 "nbformat": 4,
 "nbformat_minor": 2
}